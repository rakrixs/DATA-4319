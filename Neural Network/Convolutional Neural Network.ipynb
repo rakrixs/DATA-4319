{
 "cells": [
  {
   "cell_type": "markdown",
   "metadata": {},
   "source": [
    "# Convolutional Neural Network using MNIST data set\n",
    "\n",
    "The MNIST Dataset consist of 70,0000 images of hand written digits. The database contains 60,000 training images and 10,000 for testing the learning model. When using a Convolutional Neural Network we can relate pixels that are next to eachother by filtering out the image with a smaller pixel filter to decrease the size. This is done without loosing the relationship between pixels.\n",
    "\n",
    "|![MNIST Dataset](img/MnistExamples.png) |\n",
    "|:--:| \n",
    "|*MNIST Dataset Image*|"
   ]
  },
  {
   "cell_type": "code",
   "execution_count": 31,
   "metadata": {},
   "outputs": [],
   "source": [
    "import numpy as np\n",
    "import pandas as pd\n",
    "import matplotlib.pyplot as plt\n",
    "import tensorflow as tf\n",
    "from keras.models import Sequential\n",
    "from keras.layers import Dense, Conv2D, Dropout, Flatten, MaxPooling2D"
   ]
  },
  {
   "cell_type": "markdown",
   "metadata": {},
   "source": [
    "Running the MNIST data set using Tenserflow's Keras API and seperating the training images and the testing images. x_train and x_test contains RGB codes from 0 to 255 while y_train and y_test contains labels from 0 to 9\n",
    "\n",
    "|![title](img/1-16.png)|\n",
    "|:--:| \n",
    "|*Training and Testing in a Dataset*|"
   ]
  },
  {
   "cell_type": "code",
   "execution_count": 32,
   "metadata": {},
   "outputs": [],
   "source": [
    "(x_train, y_train), (x_test, y_test) = tf.keras.datasets.mnist.load_data()"
   ]
  },
  {
   "cell_type": "code",
   "execution_count": 33,
   "metadata": {},
   "outputs": [
    {
     "name": "stdout",
     "output_type": "stream",
     "text": [
      "2\n"
     ]
    },
    {
     "data": {
      "text/plain": [
       "<matplotlib.image.AxesImage at 0x158190f50>"
      ]
     },
     "execution_count": 33,
     "metadata": {},
     "output_type": "execute_result"
    },
    {
     "data": {
      "image/png": "[encoded data removed]",
      "text/plain": [
       "<Figure size 432x288 with 1 Axes>"
      ]
     },
     "metadata": {
      "needs_background": "light"
     },
     "output_type": "display_data"
    }
   ],
   "source": [
    "image_index = 530\n",
    "print(y_train[image_index])\n",
    "plt.imshow(x_train[image_index], cmap='Greys')"
   ]
  },
  {
   "cell_type": "code",
   "execution_count": 34,
   "metadata": {},
   "outputs": [
    {
     "data": {
      "text/plain": [
       "(60000, 28, 28)"
      ]
     },
     "execution_count": 34,
     "metadata": {},
     "output_type": "execute_result"
    }
   ],
   "source": [
    "#Showing the number of images and pixel size of the image for verification\n",
    "\n",
    "x_train.shape"
   ]
  },
  {
   "cell_type": "code",
   "execution_count": 35,
   "metadata": {},
   "outputs": [
    {
     "name": "stdout",
     "output_type": "stream",
     "text": [
      "x_train shape: (60000, 28, 28, 1)\n",
      "Number of images in x_train 60000\n",
      "Number of images in x_test 10000\n"
     ]
    }
   ],
   "source": [
    "x_train = x_train.reshape(x_train.shape[0], 28, 28, 1)\n",
    "x_test = x_test.reshape(x_test.shape[0], 28, 28, 1)\n",
    "input_shape = (28, 28, 1)\n",
    "x_train = x_train.astype('float32')\n",
    "x_test = x_test.astype('float32')\n",
    "x_train /= 255\n",
    "x_test /= 255\n",
    "print('x_train shape:', x_train.shape)\n",
    "print('Number of images in x_train', x_train.shape[0])\n",
    "print('Number of images in x_test', x_test.shape[0])"
   ]
  },
  {
   "cell_type": "markdown",
   "metadata": {},
   "source": [
    "|![MNIST Dataset](img/img2.jpeg) |\n",
    "|:--:| \n",
    "|*Example of a CNN sequence to classify neural networks*|\n",
    "\n",
    "\n",
    "We have reshaped the dataset by using a 4-dims numpy array. When working with neural network models we must normalize the data. By dividing the RGB codes to 255 we can achive normalization. In the following code we start building the Convolutional Neural Network by using Sequential mode from the keras package. With the model we will use\n",
    "    - Conv2D\n",
    "    - MaxPooling2D\n",
    "    - Flatten\n",
    "    - Dense\n",
    "    - Dropout\n",
    "    \n",
    "By using Conv2D we take out original image (5,5) and filtering it with MaxPooling2D to a smaller pixel (3,3). Dropout layer determines the overfitting while Flatten is used to change a 2D array to a 1D. The dense layer located in the last line the cell must maintain 10 neurons at all times since there is only number from 0-9. By experimenting with kernel size, pool size, dropout rate the number of neurons in the first dense layer we can gain better results"
   ]
  },
  {
   "cell_type": "code",
   "execution_count": 36,
   "metadata": {},
   "outputs": [],
   "source": [
    "model = Sequential()\n",
    "model.add(Conv2D(28, kernel_size=(5,5), input_shape=input_shape))\n",
    "model.add(MaxPooling2D(pool_size=(3,3)))\n",
    "model.add(Flatten()) # Flattening the 2D arrays for fully connected layers\n",
    "model.add(Dense(150, activation=tf.nn.relu))\n",
    "model.add(Dropout(0.3))\n",
    "model.add(Dense(10,activation=tf.nn.softmax))"
   ]
  },
  {
   "cell_type": "code",
   "execution_count": 37,
   "metadata": {},
   "outputs": [
    {
     "name": "stdout",
     "output_type": "stream",
     "text": [
      "Epoch 1/10\n",
      "60000/60000 [==============================] - 10s 164us/step - loss: 0.1752 - accuracy: 0.9479\n",
      "Epoch 2/10\n",
      "60000/60000 [==============================] - 10s 168us/step - loss: 0.0651 - accuracy: 0.9804\n",
      "Epoch 3/10\n",
      "60000/60000 [==============================] - 11s 175us/step - loss: 0.0475 - accuracy: 0.9854\n",
      "Epoch 4/10\n",
      "60000/60000 [==============================] - 11s 179us/step - loss: 0.0381 - accuracy: 0.9877\n",
      "Epoch 5/10\n",
      "60000/60000 [==============================] - 11s 183us/step - loss: 0.0329 - accuracy: 0.9897\n",
      "Epoch 6/10\n",
      "60000/60000 [==============================] - 11s 184us/step - loss: 0.0293 - accuracy: 0.9903\n",
      "Epoch 7/10\n",
      "60000/60000 [==============================] - 11s 183us/step - loss: 0.0252 - accuracy: 0.9916\n",
      "Epoch 8/10\n",
      "60000/60000 [==============================] - 11s 184us/step - loss: 0.0225 - accuracy: 0.9925\n",
      "Epoch 9/10\n",
      "60000/60000 [==============================] - 11s 184us/step - loss: 0.0242 - accuracy: 0.9921\n",
      "Epoch 10/10\n",
      "60000/60000 [==============================] - 11s 185us/step - loss: 0.0200 - accuracy: 0.9935\n"
     ]
    },
    {
     "data": {
      "text/plain": [
       "<keras.callbacks.callbacks.History at 0x148350b90>"
      ]
     },
     "execution_count": 37,
     "metadata": {},
     "output_type": "execute_result"
    }
   ],
   "source": [
    "model.compile(optimizer='adam', \n",
    "              loss='sparse_categorical_crossentropy', \n",
    "              metrics=['accuracy'])\n",
    "model.fit(x=x_train,y=y_train, epochs=10)"
   ]
  },
  {
   "cell_type": "code",
   "execution_count": 38,
   "metadata": {},
   "outputs": [
    {
     "name": "stdout",
     "output_type": "stream",
     "text": [
      "10000/10000 [==============================] - 0s 35us/step\n"
     ]
    },
    {
     "data": {
      "text/plain": [
       "[0.04006478458622823, 0.9887999892234802]"
      ]
     },
     "execution_count": 38,
     "metadata": {},
     "output_type": "execute_result"
    }
   ],
   "source": [
    "model.evaluate(x_test, y_test)"
   ]
  },
  {
   "cell_type": "markdown",
   "metadata": {},
   "source": [
    "### Our model achieved 98.87% acccuracy and our model is able to clasify the handwritten 7 as a 7."
   ]
  },
  {
   "cell_type": "code",
   "execution_count": 40,
   "metadata": {},
   "outputs": [
    {
     "name": "stdout",
     "output_type": "stream",
     "text": [
      "7\n"
     ]
    },
    {
     "data": {
      "image/png": "[encoded data removed]",
      "text/plain": [
       "<Figure size 432x288 with 1 Axes>"
      ]
     },
     "metadata": {
      "needs_background": "light"
     },
     "output_type": "display_data"
    }
   ],
   "source": [
    "image_index = 438\n",
    "plt.imshow(x_test[image_index].reshape(28, 28),cmap='Greys')\n",
    "pred = model.predict(x_test[image_index].reshape(1, 28, 28, 1))\n",
    "print(pred.argmax())"
   ]
  },
  {
   "cell_type": "markdown",
   "metadata": {},
   "source": [
    "### References\n",
    "#### 1. https://towardsdatascience.com/a-comprehensive-guide-to-convolutional-neural-networks-the-eli5-way-3bd2b1164a53"
   ]
  },
  {
   "cell_type": "code",
   "execution_count": null,
   "metadata": {},
   "outputs": [],
   "source": []
  }
 ],
 "metadata": {
  "kernelspec": {
   "display_name": "Python 3",
   "language": "python",
   "name": "python3"
  },
  "language_info": {
   "codemirror_mode": {
    "name": "ipython",
    "version": 3
   },
   "file_extension": ".py",
   "mimetype": "text/x-python",
   "name": "python",
   "nbconvert_exporter": "python",
   "pygments_lexer": "ipython3",
   "version": "3.7.5"
  }
 },
 "nbformat": 4,
 "nbformat_minor": 2
}
