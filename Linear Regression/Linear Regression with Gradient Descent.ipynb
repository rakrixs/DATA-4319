{
 "cells": [
  {
   "cell_type": "markdown",
   "metadata": {},
   "source": [
    "# Linear Regression with Gradient Descent\n",
    "\n",
    "According to machine learning mastery website gradient descent is the process of minimizing a function by following the gradient of the cost function. In linear regression, the model targets to get the best fit regression line to predict the value of y based on the given input value(x)\n",
    "\n",
    "|![LRegression](img/img1.png) |\n",
    "|:--:| \n",
    "|*Linear Regression with Gradient Descent Example*|\n",
    "\n",
    "\n",
    "The model calculates the cost function which then measures the Root Mean Squared error between the predicted value and true value and minimizes the cost"
   ]
  },
  {
   "cell_type": "code",
   "execution_count": 4,
   "metadata": {},
   "outputs": [],
   "source": [
    "import numpy as np\n",
    "import pandas as pd\n",
    "import matplotlib.pyplot as plt"
   ]
  },
  {
   "cell_type": "code",
   "execution_count": 7,
   "metadata": {},
   "outputs": [
    {
     "data": {
      "text/html": [
       "<div>\n",
       "<style scoped>\n",
       "    .dataframe tbody tr th:only-of-type {\n",
       "        vertical-align: middle;\n",
       "    }\n",
       "\n",
       "    .dataframe tbody tr th {\n",
       "        vertical-align: top;\n",
       "    }\n",
       "\n",
       "    .dataframe thead th {\n",
       "        text-align: right;\n",
       "    }\n",
       "</style>\n",
       "<table border=\"1\" class=\"dataframe\">\n",
       "  <thead>\n",
       "    <tr style=\"text-align: right;\">\n",
       "      <th></th>\n",
       "      <th>population</th>\n",
       "      <th>profit</th>\n",
       "    </tr>\n",
       "  </thead>\n",
       "  <tbody>\n",
       "    <tr>\n",
       "      <th>0</th>\n",
       "      <td>6.1101</td>\n",
       "      <td>17.5920</td>\n",
       "    </tr>\n",
       "    <tr>\n",
       "      <th>1</th>\n",
       "      <td>5.5277</td>\n",
       "      <td>9.1302</td>\n",
       "    </tr>\n",
       "    <tr>\n",
       "      <th>2</th>\n",
       "      <td>8.5186</td>\n",
       "      <td>13.6620</td>\n",
       "    </tr>\n",
       "    <tr>\n",
       "      <th>3</th>\n",
       "      <td>7.0032</td>\n",
       "      <td>11.8540</td>\n",
       "    </tr>\n",
       "    <tr>\n",
       "      <th>4</th>\n",
       "      <td>5.8598</td>\n",
       "      <td>6.8233</td>\n",
       "    </tr>\n",
       "  </tbody>\n",
       "</table>\n",
       "</div>"
      ],
      "text/plain": [
       "   population   profit\n",
       "0      6.1101  17.5920\n",
       "1      5.5277   9.1302\n",
       "2      8.5186  13.6620\n",
       "3      7.0032  11.8540\n",
       "4      5.8598   6.8233"
      ]
     },
     "execution_count": 7,
     "metadata": {},
     "output_type": "execute_result"
    }
   ],
   "source": [
    "data = pd.read_csv(\"data.txt\", names = ['population','profit'])\n",
    "data.head()"
   ]
  },
  {
   "cell_type": "code",
   "execution_count": 8,
   "metadata": {},
   "outputs": [],
   "source": [
    "#Renaming our data points\n",
    "\n",
    "X = pd.DataFrame(data.population)\n",
    "y = pd.DataFrame(data.profit)"
   ]
  },
  {
   "cell_type": "code",
   "execution_count": 9,
   "metadata": {},
   "outputs": [
    {
     "data": {
      "text/plain": [
       "Text(0, 0.5, 'Profit')"
      ]
     },
     "execution_count": 9,
     "metadata": {},
     "output_type": "execute_result"
    },
    {
     "data": {
      "image/png": "[encoded data removed]",
      "text/plain": [
       "<Figure size 720x576 with 1 Axes>"
      ]
     },
     "metadata": {
      "needs_background": "light"
     },
     "output_type": "display_data"
    }
   ],
   "source": [
    "# Plotting our points\n",
    "\n",
    "plt.figure(figsize = (10,8))\n",
    "plt.plot(X, y, 'kx')\n",
    "plt.xlabel('Population')\n",
    "plt.ylabel('Profit')"
   ]
  },
  {
   "cell_type": "code",
   "execution_count": 10,
   "metadata": {},
   "outputs": [],
   "source": [
    "iterations = 10000\n",
    "alpha = 0.01"
   ]
  },
  {
   "cell_type": "code",
   "execution_count": 11,
   "metadata": {},
   "outputs": [],
   "source": [
    "## Transform to Numpy arrays for easier matrix\n",
    "X = np.array(X)\n",
    "y = np.array(y)\n"
   ]
  },
  {
   "cell_type": "code",
   "execution_count": 12,
   "metadata": {},
   "outputs": [],
   "source": [
    "def gradient_descent(X, y, alpha, iterations):\n",
    "    \n",
    "    m = 0\n",
    "    c = 0\n",
    "    n = float(len(X))\n",
    "    cost_history = [0] * iterations\n",
    "    for iteration in range(iterations):\n",
    "        Y_pred = m*X + c  # The current predicted value of Y\n",
    "        D_m = (-2/n) * sum(X * (y - Y_pred))  # Derivative wrt m\n",
    "        D_c = (-2/n) * sum(y - Y_pred)  # Derivative wrt c\n",
    "        m = m - alpha * D_m  # Update m\n",
    "        c = c - alpha * D_c  # Update c\n",
    "        cost_history[iteration] = c\n",
    "    \n",
    "\n",
    "    return (m,c, cost_history)"
   ]
  },
  {
   "cell_type": "code",
   "execution_count": 13,
   "metadata": {},
   "outputs": [],
   "source": [
    "#Using definition to implement Gradient Descent\n",
    "\n",
    "(m, c, a) = gradient_descent(X, y, alpha, iterations)"
   ]
  },
  {
   "cell_type": "code",
   "execution_count": 14,
   "metadata": {},
   "outputs": [
    {
     "name": "stdout",
     "output_type": "stream",
     "text": [
      "[1.19303364] [-3.89578088]\n"
     ]
    }
   ],
   "source": [
    "# Checking that it is descending by printing out the cost\n",
    "print(m, c)"
   ]
  },
  {
   "cell_type": "code",
   "execution_count": 16,
   "metadata": {},
   "outputs": [
    {
     "name": "stdout",
     "output_type": "stream",
     "text": [
      "[array([0.1167827]), array([0.01800161]), array([0.05823049]), array([0.00895558]), array([0.01744769]), array([-0.01120565]), array([-0.01583616]), array([-0.03586548]), array([-0.04588771]), array([-0.06227658]), array([-0.07447994]), array([-0.08929868]), array([-0.10235009]), array([-0.11645902]), array([-0.12980522]), array([-0.14356208]), array([-0.15697367]), array([-0.17052747]), array([-0.18390959]), array([-0.19732262]), array([-0.21063628]), array([-0.22393481]), array([-0.23716422]), array([-0.25035958]), array([-0.26349858]), array([-0.27659587]), array([-0.2896423]), array([-0.30264404]), array([-0.31559739]), array([-0.32850502]), array([-0.34136549]), array([-0.35418]), array([-0.36694804]), array([-0.37967023]), array([-0.39234644]), array([-0.40497702]), array([-0.41756202]), array([-0.43010168]), array([-0.44259611]), array([-0.4550455]), array([-0.46745001]), array([-0.4798098]), array([-0.49212503]), array([-0.50439586]), array([-0.51662246]), array([-0.52880497]), array([-0.54094356]), array([-0.5530384]), array([-0.56508962]), array([-0.5770974])]\n"
     ]
    }
   ],
   "source": [
    "print(a[:50])"
   ]
  },
  {
   "cell_type": "code",
   "execution_count": 17,
   "metadata": {},
   "outputs": [],
   "source": [
    "'''\n",
    "Prediction\n",
    "'''\n",
    "\n",
    "Y_pred = m * X + c"
   ]
  },
  {
   "cell_type": "code",
   "execution_count": 18,
   "metadata": {},
   "outputs": [
    {
     "data": {
      "image/png": "[encoded data removed]",
      "text/plain": [
       "<Figure size 720x432 with 1 Axes>"
      ]
     },
     "metadata": {
      "needs_background": "light"
     },
     "output_type": "display_data"
    }
   ],
   "source": [
    "#Implementing Gradient Descent\n",
    "\n",
    "plt.figure(figsize = (10,6))\n",
    "plt.plot(X, y, 'kx')\n",
    "plt.axis([4.5,23.5,-5,25])\n",
    "plt.plot([min(X), max(X)], [min(Y_pred), max(Y_pred)], color='red') # predicted\n",
    "plt.show()"
   ]
  },
  {
   "cell_type": "markdown",
   "metadata": {},
   "source": [
    "### References\n",
    "\n",
    "#### 1. https://www.r-bloggers.com/linear-regression-by-gradient-descent/\n",
    "#### 2. https://github.com/Pritom-sarker/Linear-Regression-by-using-Gradient-Descent-Algorithm/blob/master/LinearRegression%20By%20me.py\n",
    "#### 3. https://www.geeksforgeeks.org/gradient-descent-in-linear-regression/"
   ]
  },
  {
   "cell_type": "code",
   "execution_count": null,
   "metadata": {},
   "outputs": [],
   "source": []
  },
  {
   "cell_type": "code",
   "execution_count": null,
   "metadata": {},
   "outputs": [],
   "source": []
  }
 ],
 "metadata": {
  "kernelspec": {
   "display_name": "Python 3",
   "language": "python",
   "name": "python3"
  },
  "language_info": {
   "codemirror_mode": {
    "name": "ipython",
    "version": 3
   },
   "file_extension": ".py",
   "mimetype": "text/x-python",
   "name": "python",
   "nbconvert_exporter": "python",
   "pygments_lexer": "ipython3",
   "version": "3.7.5"
  }
 },
 "nbformat": 4,
 "nbformat_minor": 2
}
